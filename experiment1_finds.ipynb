{
 "cells": [
  {
   "cell_type": "code",
   "execution_count": 3,
   "metadata": {},
   "outputs": [],
   "source": [
    "import pandas as pd\n",
    "import numpy as np\n",
    "import csv"
   ]
  },
  {
   "cell_type": "code",
   "execution_count": 5,
   "metadata": {},
   "outputs": [
    {
     "name": "stdout",
     "output_type": "stream",
     "text": [
      "\n",
      " The Given Training Data Set \n",
      "\n",
      "['ï»¿sunny', 'warm', 'cold', 'strong', 'warm', 'same', 'yes']\n",
      "['sunny', 'warm', 'high', 'strong', 'warm', 'same', 'yes']\n",
      "['rainy', 'cold', 'high', 'strong', 'warm', 'change', 'no']\n",
      "['sunny', 'warm', 'high', 'strong', 'cool', 'change', 'yes']\n",
      "\n",
      " The initial value of hypothesis\n",
      "['0', '0', '0', '0', '0', '0']\n"
     ]
    }
   ],
   "source": [
    "num_attributes = 6\n",
    "a = []\n",
    "print(\"\\n The Given Training Data Set \\n\")\n",
    "with open('find-s.csv', 'r')as csvfile:\n",
    "    reader=csv.reader(csvfile)\n",
    "    for row in reader:\n",
    "        a.append (row)\n",
    "        print(row)\n",
    "print(\"\\n The initial value of hypothesis\")\n",
    "hypothesis=['0']*num_attributes\n",
    "print(hypothesis)\n",
    "for j in range(0,num_attributes):\n",
    "    hypothesis[j]=a[0][j];"
   ]
  },
  {
   "cell_type": "code",
   "execution_count": 9,
   "metadata": {},
   "outputs": [
    {
     "name": "stdout",
     "output_type": "stream",
     "text": [
      "\n",
      " Find s: finding a maximally  Spacific Hypothesis \n",
      "\n",
      "For Taining instance No:3 the Hypothesis is ['?', 'warm', '?', 'strong', '?', '?']\n",
      "\n",
      " The maximally Spacific Hypothesis for a given Training Examples : \n",
      "\n",
      "['?', 'warm', '?', 'strong', '?', '?']\n"
     ]
    }
   ],
   "source": [
    "print(\"\\n Find s: finding a maximally  Spacific Hypothesis \\n\")\n",
    "for i in range(0, len(a)):\n",
    "    if a[i][num_attributes]==\"yes\":\n",
    "        for j in range(0, num_attributes):\n",
    "            if a[i][j]!=hypothesis[j]:\n",
    "                hypothesis[j]=\"?\"\n",
    "            else:\n",
    "                hypothesis[j]=a[i][j]\n",
    "print(\"For Taining instance No:{0} the Hypothesis is\".format(i),hypothesis)\n",
    "print(\"\\n The maximally Spacific Hypothesis for a given Training Examples : \\n\")\n",
    "print(hypothesis)"
   ]
  },
  {
   "cell_type": "code",
   "execution_count": null,
   "metadata": {},
   "outputs": [],
   "source": []
  }
 ],
 "metadata": {
  "kernelspec": {
   "display_name": "Python 3",
   "language": "python",
   "name": "python3"
  },
  "language_info": {
   "codemirror_mode": {
    "name": "ipython",
    "version": 3
   },
   "file_extension": ".py",
   "mimetype": "text/x-python",
   "name": "python",
   "nbconvert_exporter": "python",
   "pygments_lexer": "ipython3",
   "version": "3.8.5"
  }
 },
 "nbformat": 4,
 "nbformat_minor": 4
}
